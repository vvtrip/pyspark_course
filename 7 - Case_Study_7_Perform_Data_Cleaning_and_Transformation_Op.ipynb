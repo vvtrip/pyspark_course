{
  "cells": [
    {
      "cell_type": "markdown",
      "metadata": {
        "id": "view-in-github",
        "colab_type": "text"
      },
      "source": [
        "<a href=\"https://colab.research.google.com/github/vvtrip/pyspark_course/blob/master/7%20-%20Case_Study_7_Perform_Data_Cleaning_and_Transformation_Op.ipynb\" target=\"_parent\"><img src=\"https://colab.research.google.com/assets/colab-badge.svg\" alt=\"Open In Colab\"/></a>"
      ]
    },
    {
      "cell_type": "markdown",
      "source": [
        "1.  Load csv into spark as text file"
      ],
      "metadata": {
        "id": "nRapiHOVMID5"
      }
    },
    {
      "cell_type": "code",
      "source": [
        "!pip install pyspark"
      ],
      "metadata": {
        "colab": {
          "base_uri": "https://localhost:8080/"
        },
        "id": "9a3TSizFMU6z",
        "outputId": "f08cc733-67ec-4c4e-ad9b-a27b8d11126c"
      },
      "execution_count": 2,
      "outputs": [
        {
          "output_type": "stream",
          "name": "stdout",
          "text": [
            "Collecting pyspark\n",
            "  Downloading pyspark-3.5.0.tar.gz (316.9 MB)\n",
            "\u001b[2K     \u001b[90m━━━━━━━━━━━━━━━━━━━━━━━━━━━━━━━━━━━━━━━━\u001b[0m \u001b[32m316.9/316.9 MB\u001b[0m \u001b[31m5.0 MB/s\u001b[0m eta \u001b[36m0:00:00\u001b[0m\n",
            "\u001b[?25h  Preparing metadata (setup.py) ... \u001b[?25l\u001b[?25hdone\n",
            "Requirement already satisfied: py4j==0.10.9.7 in /usr/local/lib/python3.10/dist-packages (from pyspark) (0.10.9.7)\n",
            "Building wheels for collected packages: pyspark\n",
            "  Building wheel for pyspark (setup.py) ... \u001b[?25l\u001b[?25hdone\n",
            "  Created wheel for pyspark: filename=pyspark-3.5.0-py2.py3-none-any.whl size=317425344 sha256=a6f7c2c38357ea4c658f9232dbfbed1e3fb6f606f87496341807d6baf16472de\n",
            "  Stored in directory: /root/.cache/pip/wheels/41/4e/10/c2cf2467f71c678cfc8a6b9ac9241e5e44a01940da8fbb17fc\n",
            "Successfully built pyspark\n",
            "Installing collected packages: pyspark\n",
            "Successfully installed pyspark-3.5.0\n"
          ]
        }
      ]
    },
    {
      "cell_type": "code",
      "execution_count": 3,
      "metadata": {
        "id": "UTIy508jMGsD"
      },
      "outputs": [],
      "source": [
        "from pyspark.context import SparkContext\n",
        "from pyspark.sql.session import SparkSession\n",
        "sc = SparkContext('local')\n",
        "spark = SparkSession(sc)"
      ]
    },
    {
      "cell_type": "code",
      "execution_count": 4,
      "metadata": {
        "id": "bWZEeNSMMGsE"
      },
      "outputs": [],
      "source": [
        "raw = spark.read.text(\"./input.csv\")"
      ]
    },
    {
      "cell_type": "markdown",
      "source": [
        "2. Parse the data as csv."
      ],
      "metadata": {
        "id": "Sz3cYOqHMpvo"
      }
    },
    {
      "cell_type": "code",
      "execution_count": 5,
      "metadata": {
        "id": "Nt-HXdEFMGsE"
      },
      "outputs": [],
      "source": [
        "from pyspark.sql.types import Row"
      ]
    },
    {
      "cell_type": "code",
      "execution_count": 6,
      "metadata": {
        "id": "S3K0_E_zMGsF"
      },
      "outputs": [],
      "source": [
        "df = raw.rdd.map(lambda r:r[0].split(\",\")).map(lambda arr:Row(id=arr[1],app_name=arr[2],size_bytes=int(arr[3]),rating_count_tot=int(arr[6]),prime_genre=arr[12],screenshots=int(arr[14]),langnum=int(arr[15]))).toDF()"
      ]
    },
    {
      "cell_type": "markdown",
      "source": [
        "3. Convert bytes to MB and GB in a new column"
      ],
      "metadata": {
        "id": "LfGjmDWIMyBC"
      }
    },
    {
      "cell_type": "code",
      "execution_count": 7,
      "metadata": {
        "id": "MuZBdB8KMGsF"
      },
      "outputs": [],
      "source": [
        "from pyspark.sql.functions import col"
      ]
    },
    {
      "cell_type": "code",
      "execution_count": 8,
      "metadata": {
        "id": "-ARM5u-fMGsF"
      },
      "outputs": [],
      "source": [
        "df1 = df.withColumn(\"size_mb\",df.size_bytes/1000000).withColumn(\"size_gb\",col(\"size_mb\")/1000)"
      ]
    },
    {
      "cell_type": "markdown",
      "source": [
        "4. List top 10 trending apps"
      ],
      "metadata": {
        "id": "yOxAkmt9M4W4"
      }
    },
    {
      "cell_type": "code",
      "execution_count": 9,
      "metadata": {
        "colab": {
          "base_uri": "https://localhost:8080/"
        },
        "id": "s0o3WLrkMGsF",
        "outputId": "da8f9bf3-6358-474d-a69b-fbd458e2116a"
      },
      "outputs": [
        {
          "output_type": "stream",
          "name": "stdout",
          "text": [
            "+---------+--------------------+----------+----------------+-----------------+-----------+-------+----------+-------------------+\n",
            "|       id|            app_name|size_bytes|rating_count_tot|      prime_genre|screenshots|langnum|   size_mb|            size_gb|\n",
            "+---------+--------------------+----------+----------------+-----------------+-----------+-------+----------+-------------------+\n",
            "|284882215|            Facebook| 389879808|         2974676|Social Networking|          1|     29|389.879808|0.38987980800000005|\n",
            "|389801252|           Instagram| 113954816|         2161558|    Photo & Video|          0|     29|113.954816|        0.113954816|\n",
            "|529479190|      Clash of Clans| 116476928|         2130805|            Games|          5|     18|116.476928|0.11647692800000001|\n",
            "|420009108|          Temple Run|  65921024|         1724546|            Games|          5|      1| 65.921024|0.06592102400000001|\n",
            "|284035177|Pandora - Music &...| 130242560|         1126879|            Music|          4|      1| 130.24256|         0.13024256|\n",
            "|429047995|           Pinterest|  74778624|         1061624|Social Networking|          5|     27| 74.778624|0.07477862399999999|\n",
            "|282935706|               Bible|  92774400|          985920|        Reference|          5|     45|   92.7744|          0.0927744|\n",
            "|553834731|    Candy Crush Saga| 222846976|          961794|            Games|          5|     24|222.846976|        0.222846976|\n",
            "|324684580|       Spotify Music| 132510720|          878563|            Music|          5|     18| 132.51072|         0.13251072|\n",
            "|343200656|         Angry Birds| 175966208|          824451|            Games|          0|     10|175.966208|0.17596620799999999|\n",
            "+---------+--------------------+----------+----------------+-----------------+-----------+-------+----------+-------------------+\n",
            "only showing top 10 rows\n",
            "\n"
          ]
        }
      ],
      "source": [
        "df1.sort(df1.rating_count_tot.desc()).show(10)"
      ]
    },
    {
      "cell_type": "markdown",
      "source": [
        "5. The difference in the average number of screenshots displayed of highest and lowest rating apps."
      ],
      "metadata": {
        "id": "sJGsgdWwNApY"
      }
    },
    {
      "cell_type": "code",
      "execution_count": 10,
      "metadata": {
        "id": "eSTSbDdDMGsG"
      },
      "outputs": [],
      "source": [
        "import pyspark.sql.functions as F"
      ]
    },
    {
      "cell_type": "code",
      "execution_count": 11,
      "metadata": {
        "id": "SmUYN7cGMGsG"
      },
      "outputs": [],
      "source": [
        "min_rating, max_rating = df1.agg(F.min(df1.rating_count_tot),F.max(df1.rating_count_tot)).collect()[0]"
      ]
    },
    {
      "cell_type": "code",
      "execution_count": 12,
      "metadata": {
        "colab": {
          "base_uri": "https://localhost:8080/"
        },
        "id": "Dp3DNRmiMGsG",
        "outputId": "67566dc0-517c-41c0-f923-ec3a467241f0"
      },
      "outputs": [
        {
          "output_type": "stream",
          "name": "stdout",
          "text": [
            "+-----------------+\n",
            "| avg(screenshots)|\n",
            "+-----------------+\n",
            "|2.572057205720572|\n",
            "+-----------------+\n",
            "\n"
          ]
        }
      ],
      "source": [
        "df1.filter(df1.rating_count_tot == min_rating).agg(F.avg(df1.screenshots)).show()"
      ]
    },
    {
      "cell_type": "code",
      "execution_count": 13,
      "metadata": {
        "colab": {
          "base_uri": "https://localhost:8080/"
        },
        "id": "D6Q6tDHVMGsG",
        "outputId": "ab0caeb1-db60-49d1-9f18-fc676375367c"
      },
      "outputs": [
        {
          "output_type": "stream",
          "name": "stdout",
          "text": [
            "+----------------+\n",
            "|avg(screenshots)|\n",
            "+----------------+\n",
            "|             1.0|\n",
            "+----------------+\n",
            "\n"
          ]
        }
      ],
      "source": [
        "df1.filter(df1.rating_count_tot == max_rating).agg(F.avg(df1.screenshots)).show()"
      ]
    },
    {
      "cell_type": "markdown",
      "source": [
        "6. What percentage of high rated apps support multiplelanguages"
      ],
      "metadata": {
        "id": "b-SI6KbONYHr"
      }
    },
    {
      "cell_type": "code",
      "execution_count": 14,
      "metadata": {
        "colab": {
          "base_uri": "https://localhost:8080/"
        },
        "id": "0xwSF7ZsMGsG",
        "outputId": "3af70da9-501b-4e0d-9949-df09d977e4dc"
      },
      "outputs": [
        {
          "output_type": "execute_result",
          "data": {
            "text/plain": [
              "46.448326055312954"
            ]
          },
          "metadata": {},
          "execution_count": 14
        }
      ],
      "source": [
        "df1.filter(df1.langnum > 1).count() * 100 / df1.count()"
      ]
    },
    {
      "cell_type": "markdown",
      "source": [
        "7. How does app details contribute to user ratings?"
      ],
      "metadata": {
        "id": "yK401DSeNo_9"
      }
    },
    {
      "cell_type": "code",
      "execution_count": 15,
      "metadata": {
        "id": "rq30usZ6MGsH"
      },
      "outputs": [],
      "source": [
        "percentiles = df1.stat.approxQuantile(\"rating_count_tot\",[0.25,0.50,0.75],0.0)"
      ]
    },
    {
      "cell_type": "code",
      "execution_count": 16,
      "metadata": {
        "id": "Ft3SmvuBMGsH"
      },
      "outputs": [],
      "source": [
        "df_25 = df1.filter(df1.rating_count_tot < percentiles[0])"
      ]
    },
    {
      "cell_type": "code",
      "execution_count": 17,
      "metadata": {
        "id": "cRrrA9JNMGsH"
      },
      "outputs": [],
      "source": [
        "df_50 = df1.filter((df1.rating_count_tot >= percentiles[0]) & (df.rating_count_tot < percentiles[1]))"
      ]
    },
    {
      "cell_type": "code",
      "execution_count": 18,
      "metadata": {
        "id": "-LAyAR7CMGsH"
      },
      "outputs": [],
      "source": [
        "df_75 = df1.filter((df1.rating_count_tot >= percentiles[1]) & (df.rating_count_tot < percentiles[2]))"
      ]
    },
    {
      "cell_type": "code",
      "execution_count": 19,
      "metadata": {
        "id": "XbFORMJPMGsH"
      },
      "outputs": [],
      "source": [
        "df_100 = df1.filter(df1.rating_count_tot >= percentiles[2])"
      ]
    },
    {
      "cell_type": "code",
      "execution_count": 20,
      "metadata": {
        "colab": {
          "base_uri": "https://localhost:8080/"
        },
        "id": "-AC8-XbMMGsH",
        "outputId": "355d6999-f294-4a5d-e81f-c8640a254322"
      },
      "outputs": [
        {
          "output_type": "stream",
          "name": "stdout",
          "text": [
            "+-----------------+\n",
            "|     avg(langnum)|\n",
            "+-----------------+\n",
            "|2.691948658109685|\n",
            "+-----------------+\n",
            "\n"
          ]
        }
      ],
      "source": [
        "df_25.agg(F.avg(df_25.langnum)).show()"
      ]
    },
    {
      "cell_type": "code",
      "execution_count": 21,
      "metadata": {
        "colab": {
          "base_uri": "https://localhost:8080/"
        },
        "id": "dP3M-0GtMGsH",
        "outputId": "db503092-0fe2-41f3-9357-c9ed704b302f"
      },
      "outputs": [
        {
          "output_type": "stream",
          "name": "stdout",
          "text": [
            "+-----------------+\n",
            "|     avg(langnum)|\n",
            "+-----------------+\n",
            "|4.491860465116279|\n",
            "+-----------------+\n",
            "\n"
          ]
        }
      ],
      "source": [
        "df_50.agg(F.avg(df_50.langnum)).show()"
      ]
    },
    {
      "cell_type": "code",
      "execution_count": 22,
      "metadata": {
        "colab": {
          "base_uri": "https://localhost:8080/"
        },
        "id": "xNxNB5K4MGsH",
        "outputId": "c8cb359b-fb58-40a1-93c8-c0e2ded30935"
      },
      "outputs": [
        {
          "output_type": "stream",
          "name": "stdout",
          "text": [
            "+-----------------+\n",
            "|     avg(langnum)|\n",
            "+-----------------+\n",
            "|5.859720605355064|\n",
            "+-----------------+\n",
            "\n"
          ]
        }
      ],
      "source": [
        "df_75.agg(F.avg(df_75.langnum)).show()"
      ]
    },
    {
      "cell_type": "code",
      "execution_count": 23,
      "metadata": {
        "colab": {
          "base_uri": "https://localhost:8080/"
        },
        "id": "lCwy4BSMMGsH",
        "outputId": "b5085cfc-420b-4379-f58c-bd40be38f7fe"
      },
      "outputs": [
        {
          "output_type": "stream",
          "name": "stdout",
          "text": [
            "+----------------+\n",
            "|    avg(langnum)|\n",
            "+----------------+\n",
            "|8.29511059371362|\n",
            "+----------------+\n",
            "\n"
          ]
        }
      ],
      "source": [
        "df_100.agg(F.avg(df_100.langnum)).show()"
      ]
    },
    {
      "cell_type": "markdown",
      "source": [
        "8. Compare the statistics of different app groups/genres."
      ],
      "metadata": {
        "id": "dlWvhEmnOEiR"
      }
    },
    {
      "cell_type": "code",
      "execution_count": 24,
      "metadata": {
        "colab": {
          "base_uri": "https://localhost:8080/"
        },
        "id": "TuTQToX3MGsI",
        "outputId": "54734e2d-98c5-4b06-df86-f22a87cf5675"
      },
      "outputs": [
        {
          "output_type": "stream",
          "name": "stdout",
          "text": [
            "+-----------------+------------------+------------------+---------------------+------------------+\n",
            "|      prime_genre|      avg(langnum)|  avg(screenshots)|avg(rating_count_tot)|      avg(size_mb)|\n",
            "+-----------------+------------------+------------------+---------------------+------------------+\n",
            "|        Education| 7.235431235431236| 4.389277389277389|   1892.3076923076924|183.53252843589752|\n",
            "|       Navigation| 5.380952380952381|2.5952380952380953|   4760.5952380952385|109.59350902380952|\n",
            "|    Entertainment| 4.483234714003944|2.9940828402366866|    7694.905325443787|101.06431160946755|\n",
            "|           Sports|  4.03030303030303|2.9696969696969697|    10273.89898989899| 79.33482408080808|\n",
            "|     Food & Drink|3.7586206896551726| 2.086206896551724|   14796.034482758621| 78.15943062068966|\n",
            "|    Photo & Video| 9.581168831168831| 2.987012987012987|   14258.363636363636| 67.13316405194799|\n",
            "|           Travel| 7.552631578947368|2.5789473684210527|   11881.776315789473| 80.58766821052629|\n",
            "|          Finance|1.8888888888888888|1.6464646464646464|    8205.818181818182| 76.01415197979796|\n",
            "|Social Networking| 8.898089171974522|1.6878980891719746|    45185.40127388535| 77.80997522929934|\n",
            "|             Book| 2.317757009345794| 2.897196261682243|   2019.0747663551401|181.14783940186916|\n",
            "|         Shopping|3.7184466019417477| 2.029126213592233|     9979.40776699029| 88.85033258252426|\n",
            "|        Reference|  5.26984126984127| 3.888888888888889|   22474.222222222223|156.02952450793646|\n",
            "| Health & Fitness|              6.25| 2.423076923076923|   10819.935897435897| 88.65740143589744|\n",
            "|        Utilities| 6.453389830508475|2.7161016949152543|    6960.025423728814| 53.97865437288138|\n",
            "|     Productivity| 11.03225806451613| 3.696774193548387|   7487.3677419354835| 79.05767556129032|\n",
            "|            Games|4.5596837944664035| 4.297233201581028|   13814.710671936758|  282.898246942556|\n",
            "|            Music| 7.176923076923077|3.6615384615384614|   27219.615384615383|110.80347255384609|\n",
            "|        Lifestyle| 4.822222222222222|1.7481481481481482|    6285.548148148148| 62.05609144444442|\n",
            "|         Business|10.584905660377359|3.2641509433962264|    4507.811320754717| 64.16273871698112|\n",
            "|         Catalogs|               2.4|               3.4|               1732.5|         50.181632|\n",
            "+-----------------+------------------+------------------+---------------------+------------------+\n",
            "only showing top 20 rows\n",
            "\n"
          ]
        }
      ],
      "source": [
        "df1.groupBy(\"prime_genre\").agg(F.avg(df1.langnum),F.avg(df1.screenshots),F.avg(df1.rating_count_tot),F.avg(df1.size_mb)).show()"
      ]
    },
    {
      "cell_type": "markdown",
      "source": [
        "9. Does length of app description contribute to the ratings?"
      ],
      "metadata": {
        "id": "7w0DISM4ORuk"
      }
    },
    {
      "cell_type": "code",
      "execution_count": 25,
      "metadata": {
        "id": "Y6xzJ7R6MGsI"
      },
      "outputs": [],
      "source": [
        "df1 = df1.withColumn(\"name_len\", F.length(df1.app_name))"
      ]
    },
    {
      "cell_type": "code",
      "execution_count": 26,
      "metadata": {
        "id": "CSdDDqCmMGsI"
      },
      "outputs": [],
      "source": [
        "percentiles = df1.stat.approxQuantile(\"rating_count_tot\",[0.25,0.50,0.75],0.0)"
      ]
    },
    {
      "cell_type": "code",
      "execution_count": 27,
      "metadata": {
        "id": "jKJeBpSXMGsI"
      },
      "outputs": [],
      "source": [
        "df_25 = df1.filter(df1.rating_count_tot < percentiles[0])"
      ]
    },
    {
      "cell_type": "code",
      "execution_count": 28,
      "metadata": {
        "id": "xb_7-qMdMGsI"
      },
      "outputs": [],
      "source": [
        "df_50 = df1.filter((df1.rating_count_tot >= percentiles[0]) & (df.rating_count_tot < percentiles[1]))"
      ]
    },
    {
      "cell_type": "code",
      "execution_count": 29,
      "metadata": {
        "id": "Cs9kMj-4MGsI"
      },
      "outputs": [],
      "source": [
        "df_75 = df1.filter((df1.rating_count_tot >= percentiles[1]) & (df.rating_count_tot < percentiles[2]))"
      ]
    },
    {
      "cell_type": "code",
      "execution_count": 30,
      "metadata": {
        "id": "ivaFZ5EnMGsI"
      },
      "outputs": [],
      "source": [
        "df_100 = df1.filter(df1.rating_count_tot >= percentiles[2])"
      ]
    },
    {
      "cell_type": "code",
      "execution_count": 32,
      "metadata": {
        "colab": {
          "base_uri": "https://localhost:8080/"
        },
        "id": "Q9o1JaRqMGsI",
        "outputId": "a1ce5820-f9bb-47f2-bb6a-2da2bf219c8c"
      },
      "outputs": [
        {
          "output_type": "stream",
          "name": "stdout",
          "text": [
            "+------------------+\n",
            "|     avg(name_len)|\n",
            "+------------------+\n",
            "|23.085180863477245|\n",
            "+------------------+\n",
            "\n"
          ]
        }
      ],
      "source": [
        "df_25.agg(F.avg(df_25.name_len)).show()"
      ]
    },
    {
      "cell_type": "code",
      "execution_count": 33,
      "metadata": {
        "colab": {
          "base_uri": "https://localhost:8080/"
        },
        "id": "VvlyeulvMGsI",
        "outputId": "1cdb0c1f-7d23-45da-f137-5a30ac6a5a76"
      },
      "outputs": [
        {
          "output_type": "stream",
          "name": "stdout",
          "text": [
            "+-----------------+\n",
            "|    avg(name_len)|\n",
            "+-----------------+\n",
            "|26.81046511627907|\n",
            "+-----------------+\n",
            "\n"
          ]
        }
      ],
      "source": [
        "df_50.agg(F.avg(df_50.name_len)).show()"
      ]
    },
    {
      "cell_type": "code",
      "execution_count": 34,
      "metadata": {
        "colab": {
          "base_uri": "https://localhost:8080/"
        },
        "id": "4J-SSQ8lMGsJ",
        "outputId": "3de6b98c-e191-41a3-db05-bf416db30c22"
      },
      "outputs": [
        {
          "output_type": "stream",
          "name": "stdout",
          "text": [
            "+-----------------+\n",
            "|    avg(name_len)|\n",
            "+-----------------+\n",
            "|23.79743888242142|\n",
            "+-----------------+\n",
            "\n"
          ]
        }
      ],
      "source": [
        "df_75.agg(F.avg(df_75.name_len)).show()"
      ]
    },
    {
      "cell_type": "code",
      "execution_count": 35,
      "metadata": {
        "colab": {
          "base_uri": "https://localhost:8080/"
        },
        "id": "_MiTemt0MGsJ",
        "outputId": "a6be447f-bab7-4f7d-c4a6-5ead739e0719"
      },
      "outputs": [
        {
          "output_type": "stream",
          "name": "stdout",
          "text": [
            "+------------------+\n",
            "|     avg(name_len)|\n",
            "+------------------+\n",
            "|23.872526193247964|\n",
            "+------------------+\n",
            "\n"
          ]
        }
      ],
      "source": [
        "df_100.agg(F.avg(df_100.name_len)).show()"
      ]
    },
    {
      "cell_type": "code",
      "execution_count": null,
      "metadata": {
        "id": "ErsB73jcMGsJ"
      },
      "outputs": [],
      "source": []
    }
  ],
  "metadata": {
    "kernelspec": {
      "display_name": "Python 3",
      "language": "python",
      "name": "python3"
    },
    "language_info": {
      "codemirror_mode": {
        "name": "ipython",
        "version": 3
      },
      "file_extension": ".py",
      "mimetype": "text/x-python",
      "name": "python",
      "nbconvert_exporter": "python",
      "pygments_lexer": "ipython3",
      "version": "3.7.6"
    },
    "colab": {
      "provenance": [],
      "include_colab_link": true
    }
  },
  "nbformat": 4,
  "nbformat_minor": 0
}