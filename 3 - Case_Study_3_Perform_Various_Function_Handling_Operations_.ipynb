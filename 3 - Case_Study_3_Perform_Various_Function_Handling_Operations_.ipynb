{
  "nbformat": 4,
  "nbformat_minor": 0,
  "metadata": {
    "colab": {
      "provenance": []
    },
    "kernelspec": {
      "name": "python3",
      "display_name": "Python 3"
    },
    "language_info": {
      "name": "python"
    }
  },
  "cells": [
    {
      "cell_type": "markdown",
      "source": [
        "1.A Robot moves in a Plane starting from the origin point (0,0).\n",
        "\n",
        "The robot can move toward UP, DOWN, LEFT, RIGHT.\n",
        "\n",
        "The trace of Robot movement is as given following:\n",
        "\n",
        "UP 5\n",
        "\n",
        "DOWN 3\n",
        "\n",
        "LEFT 3\n",
        "\n",
        "RIGHT 2\n",
        "\n",
        "The numbers after directions are steps.  Write a program to compute the distance current position after sequence of movements."
      ],
      "metadata": {
        "id": "sA3HWssI8PwO"
      }
    },
    {
      "cell_type": "code",
      "execution_count": null,
      "metadata": {
        "colab": {
          "base_uri": "https://localhost:8080/"
        },
        "id": "7I6HV5CC8IUs",
        "outputId": "8cfc435d-0150-4924-a030-6752d2684594"
      },
      "outputs": [
        {
          "output_type": "stream",
          "name": "stdout",
          "text": [
            "2.23606797749979\n"
          ]
        }
      ],
      "source": [
        "import math\n",
        "\n",
        "current = [0,0]\n",
        "#up 5\n",
        "current[1] = current[1] + 5\n",
        "#down 3\n",
        "current[1] = current[1] - 3\n",
        "#left 3\n",
        "current[0] = current[0] - 3\n",
        "#right 3\n",
        "current[0] = current[0] + 2\n",
        "\n",
        "print(math.dist([0,0], current))"
      ]
    },
    {
      "cell_type": "markdown",
      "source": [
        "2.Data of XYZ company is stored in sorted list. Write a program for searching specific data from that list."
      ],
      "metadata": {
        "id": "XEZb2gl0-N9m"
      }
    },
    {
      "cell_type": "code",
      "source": [
        "def binary_search(arr, low, high, x):\n",
        "  if high >= low:\n",
        "    mid = (high + low) // 2\n",
        "    if arr[mid] == x:\n",
        "      return mid\n",
        "    elif arr[mid] > x:\n",
        "      return binary_search(arr, low, mid - 1, x)\n",
        "    else:\n",
        "      return binary_search(arr, mid + 1, high, x)\n",
        "  else:\n",
        "    return -1\n",
        "arr = [ 2, 3, 4, 10, 40 ]\n",
        "x = 10\n",
        "\n",
        "result = binary_search(arr, 0, len(arr)-1, x)\n",
        "\n",
        "if result != -1:\n",
        "    print(\"Element is present at index\", str(result))\n",
        "else:\n",
        "    print(\"Element is not present in array\")\n"
      ],
      "metadata": {
        "colab": {
          "base_uri": "https://localhost:8080/"
        },
        "id": "bAh-asnK9a7M",
        "outputId": "e800bcf4-f2cf-4f3d-8c04-d138753ce267"
      },
      "execution_count": null,
      "outputs": [
        {
          "output_type": "stream",
          "name": "stdout",
          "text": [
            "Element is present at index 3\n"
          ]
        }
      ]
    },
    {
      "cell_type": "code",
      "source": [
        "import time\n",
        "hour = int(time.asctime().split()[3].split(\":\")[0])\n",
        "if hour >=6 and hour <=19:\n",
        "  print(\"daytime\")\n",
        "else:\n",
        "  print(\"dark\")"
      ],
      "metadata": {
        "colab": {
          "base_uri": "https://localhost:8080/"
        },
        "id": "vscTD8vTE5n8",
        "outputId": "26fce863-f359-4184-8368-9b2d461e2a70"
      },
      "execution_count": null,
      "outputs": [
        {
          "output_type": "stream",
          "name": "stdout",
          "text": [
            "dark\n"
          ]
        }
      ]
    },
    {
      "cell_type": "markdown",
      "source": [
        "4.Write a program to find distance between two locations when their latitude and longitudes are given"
      ],
      "metadata": {
        "id": "o-koOCVbHzoZ"
      }
    },
    {
      "cell_type": "code",
      "source": [
        "from math import sin, cos, sqrt, atan2, radians\n",
        "\n",
        "# Approximate radius of earth in km\n",
        "R = 6373.0\n",
        "\n",
        "lat1 = radians(52.2296756)\n",
        "lon1 = radians(21.0122287)\n",
        "lat2 = radians(52.406374)\n",
        "lon2 = radians(16.9251681)\n",
        "\n",
        "dlon = lon2 - lon1\n",
        "dlat = lat2 - lat1\n",
        "\n",
        "a = sin(dlat / 2)**2 + cos(lat1) * cos(lat2) * sin(dlon / 2)**2\n",
        "c = 2 * atan2(sqrt(a), sqrt(1 - a))\n",
        "\n",
        "distance = R * c\n",
        "\n",
        "print(\"Result: \", distance)"
      ],
      "metadata": {
        "id": "l0G_4yKUG26n",
        "colab": {
          "base_uri": "https://localhost:8080/"
        },
        "outputId": "be4debd2-e7c3-4df3-9298-74264b487087"
      },
      "execution_count": 3,
      "outputs": [
        {
          "output_type": "stream",
          "name": "stdout",
          "text": [
            "Result:  278.54558935106695\n"
          ]
        }
      ]
    },
    {
      "cell_type": "markdown",
      "source": [
        "5. Design a software for bank system. There should be options like cash withdraw, cash credit and change password. According to user input, the software should provide required output"
      ],
      "metadata": {
        "id": "Y5g9xCP4Tm52"
      }
    },
    {
      "cell_type": "code",
      "source": [
        "import re\n",
        "\n",
        "def create_password():\n",
        "\n",
        "  string = input(\"\\nEnter new password\\n\")\n",
        "\n",
        "  if(len(string)<6 or len(string)>12):\n",
        "    print(\"\\nInvalid length. keep password between 6 to 12 characters\\n\")\n",
        "    return 'incorrect'\n",
        "  elif not re.search(r'[a-z]+', string):\n",
        "    print(\"\\nInvalid password. Atleast one lowercase letter required\\n\")\n",
        "    return 'incorrect'\n",
        "  elif not re.search(r'[A-Z]+', string):\n",
        "    print(\"\\nInvalid password. Atleast one uppercase letter required\\n\")\n",
        "    return 'incorrect'\n",
        "  elif not re.search(r'[0-9]+', string):\n",
        "    print(\"\\nInvalid password. Atleast one digit required\\n\")\n",
        "    return 'incorrect'\n",
        "  elif not re.search(r'[$#@]+', string):\n",
        "    print(\"\\nInvalid password. Atleast one special characters from {$, #,@} required\\n\")\n",
        "    return 'incorrect'\n",
        "  else:\n",
        "    return string\n",
        "\n",
        "def withdraw(amt, current):\n",
        "  if amt> current:\n",
        "    print(\"\\nInsufficient balance. Enter less amount.\\n\")\n",
        "    return' incorrect'\n",
        "  else:\n",
        "    print(f\"\\nCurrent balance is {current - amt}\\n\")\n",
        "    return current-amt\n",
        "\n",
        "def credit(amt, current):\n",
        "  print(f\"\\nCurrent balance is {current + amt}\\n\")\n",
        "  return current + amt\n",
        "\n",
        "def call(current, pwd):\n",
        "  opt = int(input(\"\\n1. Cash Withdraw\\n2. Cash Credit\\n3. Change Password\\n4. Exit\\n\"))\n",
        "\n",
        "  if opt == 1:\n",
        "    amt  = int(input('\\nEnter amount to withdraw:\\n'))\n",
        "    resp = withdraw(amt, current)\n",
        "\n",
        "    if resp!='incorrect':\n",
        "      current  = resp\n",
        "      call(current, pwd)\n",
        "    else:\n",
        "      call(current, pwd)\n",
        "  elif opt ==2:\n",
        "    amt  = int(input('\\nEnter amount to credit:\\n'))\n",
        "    resp = credit(amt, current)\n",
        "    current = resp\n",
        "    call(current, pwd)\n",
        "  elif opt == 3:\n",
        "    current_pwd = input(\"\\nEnter current password\")\n",
        "    if current_pwd != pwd:\n",
        "      print('\\nCurrent password is incorrect\\n')\n",
        "      call(current, pwd)\n",
        "    else:\n",
        "      resp = create_password()\n",
        "      if resp != 'incorrect':\n",
        "        resp2 = input(\"\\nConfirm password\\n\")\n",
        "\n",
        "        if resp2 == resp:\n",
        "          print(\"\\nPassword updated successfully\\n\")\n",
        "          pwd = resp\n",
        "          call(current, pwd)\n",
        "        else:\n",
        "          print('\\nPasswords do not match\\n')\n",
        "          call(current, pwd)\n",
        "      else:\n",
        "        call(current, pwd)\n",
        "  else:\n",
        "    print('\\nThank you!')\n",
        "\n",
        "call(1500, 'qwertYUI12@#')"
      ],
      "metadata": {
        "colab": {
          "base_uri": "https://localhost:8080/"
        },
        "id": "sbK-_ZRUTIlA",
        "outputId": "e5fdd2bf-2174-4739-c230-fd3b35d44bae"
      },
      "execution_count": 7,
      "outputs": [
        {
          "output_type": "stream",
          "name": "stdout",
          "text": [
            "\n",
            "1. Cash Withdraw\n",
            "2. Cash Credit\n",
            "3. Change Password\n",
            "4. Exit\n",
            "1\n",
            "\n",
            "Enter amount to withdraw:\n",
            "300\n",
            "\n",
            "Current balance is 1200\n",
            "\n",
            "\n",
            "1. Cash Withdraw\n",
            "2. Cash Credit\n",
            "3. Change Password\n",
            "4. Exit\n",
            "2\n",
            "\n",
            "Enter amount to credit:\n",
            "400\n",
            "\n",
            "Current balance is 1600\n",
            "\n",
            "\n",
            "1. Cash Withdraw\n",
            "2. Cash Credit\n",
            "3. Change Password\n",
            "4. Exit\n",
            "3\n",
            "\n",
            "Enter curretn passwordqwertYUI12@#\n",
            "\n",
            "Enter new password\n",
            "asdfg12!\n",
            "\n",
            "Invalid password. Atleast one uppercase letter required\n",
            "\n",
            "\n",
            "1. Cash Withdraw\n",
            "2. Cash Credit\n",
            "3. Change Password\n",
            "4. Exit\n",
            "3\n",
            "\n",
            "Enter curretn passwordqwertYUI12@#\n",
            "\n",
            "Enter new password\n",
            "qwertYUI12@#\n",
            "\n",
            "Confirm password\n",
            "qwertYUI12@#\n",
            "\n",
            "Password updated successfully\n",
            "\n",
            "\n",
            "1. Cash Withdraw\n",
            "2. Cash Credit\n",
            "3. Change Password\n",
            "4. Exit\n",
            "1\n",
            "\n",
            "Enter amount to withdraw:\n",
            "200\n",
            "\n",
            "Current balance is 1400\n",
            "\n",
            "\n",
            "1. Cash Withdraw\n",
            "2. Cash Credit\n",
            "3. Change Password\n",
            "4. Exit\n",
            "2\n",
            "\n",
            "Enter amount to credit:\n",
            "500\n",
            "\n",
            "Current balance is 1900\n",
            "\n",
            "\n",
            "1. Cash Withdraw\n",
            "2. Cash Credit\n",
            "3. Change Password\n",
            "4. Exit\n",
            "4\n",
            "\n",
            "Thank you!\n"
          ]
        }
      ]
    },
    {
      "cell_type": "code",
      "source": [],
      "metadata": {
        "id": "weHLZ1i0aMtP"
      },
      "execution_count": null,
      "outputs": []
    }
  ]
}