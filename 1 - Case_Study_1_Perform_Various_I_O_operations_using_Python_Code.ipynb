{
  "nbformat": 4,
  "nbformat_minor": 0,
  "metadata": {
    "colab": {
      "provenance": []
    },
    "kernelspec": {
      "name": "python3",
      "display_name": "Python 3"
    },
    "language_info": {
      "name": "python"
    }
  },
  "cells": [
    {
      "cell_type": "markdown",
      "source": [
        "1.What is the output of the following code?"
      ],
      "metadata": {
        "id": "toVXVf9YFKWQ"
      }
    },
    {
      "cell_type": "code",
      "source": [
        "nums =set([1,1,2,3,3,3,4,4])\n",
        "print(len(nums)) #answer - 4"
      ],
      "metadata": {
        "colab": {
          "base_uri": "https://localhost:8080/"
        },
        "id": "ncaROoWkFPVH",
        "outputId": "b78f047b-3ef4-47c4-f6a2-0e1b706157de"
      },
      "execution_count": 27,
      "outputs": [
        {
          "output_type": "stream",
          "name": "stdout",
          "text": [
            "4\n"
          ]
        }
      ]
    },
    {
      "cell_type": "markdown",
      "source": [
        "2.What will be the output?"
      ],
      "metadata": {
        "id": "LD8qcCQ3Fnpk"
      }
    },
    {
      "cell_type": "code",
      "source": [
        "d ={\"john\":40, \"peter\":45}\n",
        "print(list(d.keys())) #answer - john, peter\n"
      ],
      "metadata": {
        "colab": {
          "base_uri": "https://localhost:8080/"
        },
        "id": "UJH-hOaxFb0w",
        "outputId": "3ef19499-4252-49a6-faac-a21a8fb58f3b"
      },
      "execution_count": 28,
      "outputs": [
        {
          "output_type": "stream",
          "name": "stdout",
          "text": [
            "['john', 'peter']\n"
          ]
        }
      ]
    },
    {
      "cell_type": "markdown",
      "source": [
        "3.A website requires a user to input username and password to register.\n",
        "\n",
        "Write a program to check the validity of password given by user.\n",
        "\n",
        "Following are the criteria for checking password:\n",
        "\n",
        "1. At least 1 letter between [a-z]\n",
        "2. At least 1 number between [0-9]\n",
        "3. At least 1 letter between [A-Z]\n",
        "4. At least 1 character from [$#@]\n",
        "5. Minimum length of transaction password: 6\n",
        "6. Maximum length of transaction password: 12\n"
      ],
      "metadata": {
        "id": "PI1MPlL1GGKS"
      }
    },
    {
      "cell_type": "code",
      "source": [
        "import re\n",
        "string = input(\"Enter password\\n\")\n",
        "\n",
        "if(len(string)<6 or len(string)>12):\n",
        "  print(\"Invalid length. keep password between 6 to 12 characters\")\n",
        "elif not re.search(r'[a-z]+', string):\n",
        "  print(\"Invalid password. Atleast one lowercase letter required\")\n",
        "elif not re.search(r'[A-Z]+', string):\n",
        "  print(\"Invalid password. Atleast one uppercase letter required\")\n",
        "elif not re.search(r'[0-9]+', string):\n",
        "  print(\"Invalid password. Atleast one digit required\")\n",
        "elif not re.search(r'[$#@]+', string):\n",
        "  print(\"Invalid password. Atleast one special characters from {$, #,@} required\")\n",
        "else:\n",
        "  print(\"Valid\")"
      ],
      "metadata": {
        "colab": {
          "base_uri": "https://localhost:8080/"
        },
        "id": "AH-AaepUiQ3g",
        "outputId": "490e4134-d9cd-4652-fe7e-26e7f5ad01d9"
      },
      "execution_count": 30,
      "outputs": [
        {
          "output_type": "stream",
          "name": "stdout",
          "text": [
            "Enter password\n",
            "tyY5$@i99\n",
            "Valid\n"
          ]
        }
      ]
    },
    {
      "cell_type": "markdown",
      "source": [
        "4.Write a for loop that prints all elements of a list and their position in the list"
      ],
      "metadata": {
        "id": "kNXKwXxnG5Dc"
      }
    },
    {
      "cell_type": "code",
      "source": [
        "a = [4,7,3,2,5,9]\n",
        "\n",
        "for i in range(len(a)):\n",
        "  print(\"position\", i, \"element\", a[i])"
      ],
      "metadata": {
        "colab": {
          "base_uri": "https://localhost:8080/"
        },
        "id": "2g5M6CDcF6wf",
        "outputId": "6b3b877a-31c8-4949-b4d4-3dbcc9eae81c"
      },
      "execution_count": 31,
      "outputs": [
        {
          "output_type": "stream",
          "name": "stdout",
          "text": [
            "position 0 element 4\n",
            "position 1 element 7\n",
            "position 2 element 3\n",
            "position 3 element 2\n",
            "position 4 element 5\n",
            "position 5 element 9\n"
          ]
        }
      ]
    },
    {
      "cell_type": "markdown",
      "source": [
        "5.Please   write   a   program   which   accepts  a   string   from console   and   print   the characters that have even indexes.\n",
        "\n",
        "Example: If the following string is given as input to the program:H1e2l3l4o5w6o7r8l9dThen, the output of the program should be:Helloworld"
      ],
      "metadata": {
        "id": "enKvFOgbHe5g"
      }
    },
    {
      "cell_type": "code",
      "source": [
        "string = input()\n",
        "print(\"\".join([string[i] for i in range(len(string)) if i%2==0]))"
      ],
      "metadata": {
        "colab": {
          "base_uri": "https://localhost:8080/"
        },
        "id": "Z6qjJDmxHWLW",
        "outputId": "378165c1-3b16-48cf-af3a-f89fbc7f0eaa"
      },
      "execution_count": 32,
      "outputs": [
        {
          "output_type": "stream",
          "name": "stdout",
          "text": [
            "H1e2l3l4o5w6o7r8l9d\n",
            "Helloworld\n"
          ]
        }
      ]
    },
    {
      "cell_type": "markdown",
      "source": [
        "6. Please write a program which accepts a string from console and print it in reverse order.\n",
        "\n",
        "    Example: If the following string is given as input to the program:\n",
        "    \n",
        "    rise to vote sir\n",
        "\n",
        "    Then, the output of the programshould be:\n",
        "    \n",
        "    ris etov ot esir"
      ],
      "metadata": {
        "id": "rYkzqsaOXSt8"
      }
    },
    {
      "cell_type": "code",
      "source": [
        "string = input()\n",
        "print(string[::-1])"
      ],
      "metadata": {
        "colab": {
          "base_uri": "https://localhost:8080/"
        },
        "id": "QxCiHKSxXE42",
        "outputId": "89e18621-88cd-42a0-ec05-d11b7bff93bc"
      },
      "execution_count": 34,
      "outputs": [
        {
          "output_type": "stream",
          "name": "stdout",
          "text": [
            "rise to vote sir\n",
            "ris etov ot esir\n"
          ]
        }
      ]
    },
    {
      "cell_type": "markdown",
      "source": [
        "7.Please write a program which count and print the numbers of each character in a string input by console.\n",
        "\n",
        "Example: If the following string is given as input to the program:\n",
        "\n",
        "abcdefgabc\n",
        "\n",
        "Then, the output of the program should be:\n",
        "\n",
        "a,2\n",
        "\n",
        "c,2\n",
        "\n",
        "b,2\n",
        "\n",
        "e,1\n",
        "\n",
        "d,1\n",
        "\n",
        "g,1\n",
        "\n",
        "f,1"
      ],
      "metadata": {
        "id": "slCwdqeDXu41"
      }
    },
    {
      "cell_type": "code",
      "source": [
        "string = input()\n",
        "dct = dict()\n",
        "for i in range(len(string)):\n",
        "  if string[i] not in dct.keys():\n",
        "    dct[string[i]] = string.count(string[i])\n",
        "\n",
        "lst = sorted(dct.items(), key = lambda x:x[1])[::-1]\n",
        "for i in lst:\n",
        "  print(str(i[0])+\",\"+str(i[1]))"
      ],
      "metadata": {
        "colab": {
          "base_uri": "https://localhost:8080/"
        },
        "id": "n-Ydcv2KXmSt",
        "outputId": "78b60d7b-32cb-4114-c4e2-cd172a77910a"
      },
      "execution_count": 35,
      "outputs": [
        {
          "output_type": "stream",
          "name": "stdout",
          "text": [
            "abcdefgabc\n",
            "c,2\n",
            "b,2\n",
            "a,2\n",
            "g,1\n",
            "f,1\n",
            "e,1\n",
            "d,1\n"
          ]
        }
      ]
    },
    {
      "cell_type": "markdown",
      "source": [
        "8.With   two   given   lists   [1,3,6,78,35,55]   and   [12,24,35,24,88,120,155],   write   a program to make a list whose elements are intersection of the above given lists."
      ],
      "metadata": {
        "id": "DMwf00zae_dW"
      }
    },
    {
      "cell_type": "code",
      "source": [
        "lst1 = [1,3,6,78,35,55]\n",
        "lst2 = [12,24,35,24,88,120,155]\n",
        "\n",
        "print(list(set(lst1)&set(lst2)))"
      ],
      "metadata": {
        "colab": {
          "base_uri": "https://localhost:8080/"
        },
        "id": "rsBzCoKlZv-L",
        "outputId": "3881e26a-9b37-42fe-b81e-74771332faee"
      },
      "execution_count": 36,
      "outputs": [
        {
          "output_type": "stream",
          "name": "stdout",
          "text": [
            "[35]\n"
          ]
        }
      ]
    },
    {
      "cell_type": "markdown",
      "source": [
        "9.With a given list [12,24,35,24,88,120,155,88,120,155], write a program to print this list after removing all duplicate values with original order reserved."
      ],
      "metadata": {
        "id": "vmDr9C0lfknF"
      }
    },
    {
      "cell_type": "code",
      "source": [
        "lstt = [12,24,35,24,88,120,155,88,120,155]\n",
        "\n",
        "lst = []\n",
        "\n",
        "for i in lstt:\n",
        "  if i not in lst:\n",
        "    lst.append(i)\n",
        "\n",
        "print(lst)"
      ],
      "metadata": {
        "colab": {
          "base_uri": "https://localhost:8080/"
        },
        "id": "0ad44NeEfZn2",
        "outputId": "b7405308-9e2f-4898-98ae-37ee3bd9cd18"
      },
      "execution_count": 37,
      "outputs": [
        {
          "output_type": "stream",
          "name": "stdout",
          "text": [
            "[12, 24, 35, 88, 120, 155]\n"
          ]
        }
      ]
    },
    {
      "cell_type": "markdown",
      "source": [
        "10.By using list comprehension, please write a program to print the list after removing the value 24 in [12,24,35,24,88,120,155]"
      ],
      "metadata": {
        "id": "pmhRiVFGgNsc"
      }
    },
    {
      "cell_type": "code",
      "source": [
        "print([x for x in [12,24,35,24,88,120,155] if x != 24])"
      ],
      "metadata": {
        "colab": {
          "base_uri": "https://localhost:8080/"
        },
        "id": "kKtv4KcFgJP8",
        "outputId": "32018fa6-e2db-40f7-ce82-b07cb804625e"
      },
      "execution_count": 38,
      "outputs": [
        {
          "output_type": "stream",
          "name": "stdout",
          "text": [
            "[12, 35, 88, 120, 155]\n"
          ]
        }
      ]
    },
    {
      "cell_type": "markdown",
      "source": [
        "11.By using list comprehension, please write a program to print the list after removing the 0th,4th,5th numbers in [12,24,35,70,88,120,155]"
      ],
      "metadata": {
        "id": "ITYX6iWmgrzd"
      }
    },
    {
      "cell_type": "code",
      "source": [
        "lst = [12,24,35,70,88,120,155]\n",
        "\n",
        "print([lst[i] for i in range(len(lst)) if i not in(0,4,5)])"
      ],
      "metadata": {
        "colab": {
          "base_uri": "https://localhost:8080/"
        },
        "id": "s3A7YfCBggyF",
        "outputId": "3897ffad-ef8c-41e8-c7ff-4e945b01dcbc"
      },
      "execution_count": 39,
      "outputs": [
        {
          "output_type": "stream",
          "name": "stdout",
          "text": [
            "[24, 35, 70, 155]\n"
          ]
        }
      ]
    },
    {
      "cell_type": "markdown",
      "source": [
        "12.By using list comprehension, please write a program to print the list after removing delete numbers which are divisible by 5 and 7 in [12,24,35,70,88,120,155]"
      ],
      "metadata": {
        "id": "ZMSsE97PhCHR"
      }
    },
    {
      "cell_type": "code",
      "source": [
        "lst = [12,24,35,70,88,120,155]\n",
        "\n",
        "print([i for i in lst if not (i%5==0 and i %7==0)])"
      ],
      "metadata": {
        "colab": {
          "base_uri": "https://localhost:8080/"
        },
        "id": "x1KRWfkHg7gs",
        "outputId": "15ebd5b6-16cc-44ad-8a20-318b808be0fa"
      },
      "execution_count": 40,
      "outputs": [
        {
          "output_type": "stream",
          "name": "stdout",
          "text": [
            "[12, 24, 88, 120, 155]\n"
          ]
        }
      ]
    },
    {
      "cell_type": "markdown",
      "source": [
        "13.Please  write  a  program  to  randomly  generate  a  list  with  5  numbers,  which  are divisible by 5 and 7 , between 1 and 1000 inclusiv"
      ],
      "metadata": {
        "id": "9K65gVyuhuCm"
      }
    },
    {
      "cell_type": "code",
      "source": [
        "import random\n",
        "print([5*7*random.randint(1,28) for i in range(5)])"
      ],
      "metadata": {
        "id": "dkgz8GTihV9a",
        "colab": {
          "base_uri": "https://localhost:8080/"
        },
        "outputId": "4894b801-47d7-4c69-c656-4dc8a720ae0d"
      },
      "execution_count": 41,
      "outputs": [
        {
          "output_type": "stream",
          "name": "stdout",
          "text": [
            "[980, 945, 70, 945, 910]\n"
          ]
        }
      ]
    },
    {
      "cell_type": "markdown",
      "source": [
        "14.Write  a  program  to  compute  1/2+2/3+3/4+...+n/n+1  with  a given  n  input  by console (n>0).\n",
        "\n",
        "\n",
        "Example:\n",
        "\n",
        "If the following n is given as input to the program:\n",
        "\n",
        "5\n",
        "\n",
        "Then, the output of the program should be:\n",
        "\n",
        "3.55"
      ],
      "metadata": {
        "id": "8PtaifYokvY4"
      }
    },
    {
      "cell_type": "code",
      "source": [
        "n = int(input())\n",
        "i=1\n",
        "sum= 0\n",
        "while i<=n:\n",
        "  sum += i/(i+1)\n",
        "  i += 1\n",
        "print(round(sum,2))"
      ],
      "metadata": {
        "id": "fhbhwpKWicPy",
        "colab": {
          "base_uri": "https://localhost:8080/"
        },
        "outputId": "9c955b7e-23dc-4216-885e-5a73d1c98189"
      },
      "execution_count": 42,
      "outputs": [
        {
          "output_type": "stream",
          "name": "stdout",
          "text": [
            "5\n",
            "3.55\n"
          ]
        }
      ]
    },
    {
      "cell_type": "code",
      "source": [],
      "metadata": {
        "id": "2q-Ig_Trl5Or"
      },
      "execution_count": null,
      "outputs": []
    }
  ]
}