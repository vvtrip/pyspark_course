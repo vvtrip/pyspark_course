{
  "nbformat": 4,
  "nbformat_minor": 0,
  "metadata": {
    "colab": {
      "provenance": []
    },
    "kernelspec": {
      "name": "python3",
      "display_name": "Python 3"
    },
    "language_info": {
      "name": "python"
    }
  },
  "cells": [
    {
      "cell_type": "markdown",
      "source": [
        "Build a system where when user enters Reference ID it is encrypted, so that hackers cannot view the mapping of Reference ID and finger print\n",
        "\n",
        "1.Read the input from command line –Reference ID\n",
        "\n",
        "2.Check for validity –it should be 12 digits and allows on number and alphabet\n",
        "\n",
        "3.Encrypt the Reference ID and print it for reference\n",
        "\n",
        "\n",
        "You can try these enhancements in code\n",
        "\n",
        "1.Allow some special characters in ReferenceID\n",
        "\n",
        "2.Give the option for decryption to user"
      ],
      "metadata": {
        "id": "A1pmSCsVt5nJ"
      }
    },
    {
      "cell_type": "code",
      "execution_count": 7,
      "metadata": {
        "colab": {
          "base_uri": "https://localhost:8080/"
        },
        "id": "c77-GMxotvTn",
        "outputId": "d0c06237-728e-4c16-c395-e9582a08b00c"
      },
      "outputs": [
        {
          "output_type": "stream",
          "name": "stdout",
          "text": [
            "abcdEFGH123@\n",
            "Valid RefID\n",
            "refid is b'h\\xde\\xf4Z\\x93a\\x11Q\\x1fL\\x7f7oy\\x9c\\xd0\\x02,4<\\x8fC\\xfe\\x0cT\\xd2\\xc9\\xb3J<%=K\\x03\\xbfZ\\xe1\\xf00\\xe9\\x1d\\xac\\xb6\\x10\\xdb\\x19\\xb4\\n\\xc5\\xb1\\xa9\\xef54\\xc1\\xdb\\xd7J~\\x15\\xecI\\xd6i'\n",
            "Do you want to decrypt id? Press 1 for yes, 2 for no1\n",
            "abcdEFGH123@\n"
          ]
        }
      ],
      "source": [
        "import re\n",
        "import rsa\n",
        "\n",
        "refid = input()\n",
        "\n",
        "if len(refid) != 12:\n",
        "  print(\"Invalid refid. Length should be 12\")\n",
        "elif not (re.search(r'[a-zA-Z]+', refid)):\n",
        "  print(\"Invalid id. Letters missing\")\n",
        "elif not (re.search(r'[0-9]+', refid)):\n",
        "  print(\"Invalid id. Digits missing\")\n",
        "else:\n",
        "  print(\"Valid RefID\")\n",
        "\n",
        "\n",
        "publicKey, privateKey = rsa.newkeys(512)\n",
        "encID = rsa.encrypt(refid.encode(), publicKey)\n",
        "print(\"refid is\",encID)\n",
        "\n",
        "resp = int(input(\"Do you want to decrypt id? Press 1 for yes, 2 for no\\n\"))\n",
        "if resp == 1:\n",
        "  decID = rsa.decrypt(encID, privateKey).decode()\n",
        "  print(decID)"
      ]
    }
  ]
}